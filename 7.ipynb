{
 "cells": [
  {
   "cell_type": "code",
   "execution_count": 1,
   "metadata": {},
   "outputs": [],
   "source": [
    "import numpy as np\n",
    "from sklearn import datasets\n",
    "from sklearn.model_selection import train_test_split\n",
    "import matplotlib.pyplot as plt\n",
    "import pandas as pd"
   ]
  },
  {
   "cell_type": "code",
   "execution_count": 2,
   "metadata": {},
   "outputs": [],
   "source": [
    "datasett = datasets.load_breast_cancer()"
   ]
  },
  {
   "cell_type": "code",
   "execution_count": 3,
   "metadata": {},
   "outputs": [],
   "source": [
    "class SLP(object):\n",
    "    def __init__(self, n_iterations=100, random_state=1, learning_rate=0.01):\n",
    "        self.n_iterations = n_iterations\n",
    "        self.random_state = random_state\n",
    "        self.learning_rate = learning_rate\n",
    "    \n",
    "    def fit(self, X, y):\n",
    "        rgen = np.random.RandomState(self.random_state)\n",
    "        self.W = rgen.normal(loc=0.0, scale=0.01, size=1 + X.shape[1])\n",
    "        for _ in range(self.n_iterations):\n",
    "            for xi, expected_value in zip(X, y):\n",
    "                pv = self.predict(xi)\n",
    "                self.W[1:] = self.W[1:] + self.learning_rate * (expected_value - pv) * xi\n",
    "                self.W[0] = self.W[0] + self.learning_rate * (expected_value - pv) * 1\n",
    "    \n",
    "    \n",
    "    def net_input(self, X):\n",
    "            ws = np.dot(X, self.W[1:]) + self.W[0]\n",
    "            return ws\n",
    "\n",
    "    def activation_function(self, X):\n",
    "            ws = self.net_input(X)\n",
    "            return np.where(ws >= 0.0, 1, 0)\n",
    "\n",
    "        \n",
    "    def predict(self, X):\n",
    "        return self.activation_function(X) \n",
    "\n",
    "\n",
    "    def score(self, X, y):\n",
    "        misclassified_data_count = 0\n",
    "        for xi, target in zip(X, y):\n",
    "            output = self.predict(xi)\n",
    "            if(target != output):\n",
    "                misclassified_data_count += 1\n",
    "        total_data_count = len(X)\n",
    "        self.score_ = (total_data_count - misclassified_data_count)/total_data_count\n",
    "        return self.score_"
   ]
  },
  {
   "cell_type": "code",
   "execution_count": 5,
   "metadata": {},
   "outputs": [
    {
     "data": {
      "text/plain": [
       "(0.94, 0.9105691056910569)"
      ]
     },
     "execution_count": 5,
     "metadata": {},
     "output_type": "execute_result"
    }
   ],
   "source": [
    "X = datasett.data\n",
    "y = datasett.target\n",
    "X_train, X_test, y_train, y_test = train_test_split(X, y, test_size=0.35, random_state=45, stratify=y)\n",
    "\n",
    "perceptron = SLP()\n",
    "\n",
    "perceptron.fit(X_train, y_train)\n",
    "perceptron.score(X_test, y_test), perceptron.score(X_train, y_train)"
   ]
  },
  {
   "cell_type": "code",
   "execution_count": 6,
   "metadata": {
    "scrolled": true
   },
   "outputs": [],
   "source": [
    "rgen = np.random.RandomState(1)\n",
    "coef_ = rgen.normal(loc=0.0, scale=0.01, size=1 + X_train.shape[1])\n",
    "\n",
    "weighted_sum = np.dot(X_train, coef_[1:]) + coef_[0]"
   ]
  },
  {
   "cell_type": "code",
   "execution_count": null,
   "metadata": {},
   "outputs": [],
   "source": []
  }
 ],
 "metadata": {
  "kernelspec": {
   "display_name": "Python 3 (ipykernel)",
   "language": "python",
   "name": "python3"
  },
  "language_info": {
   "codemirror_mode": {
    "name": "ipython",
    "version": 3
   },
   "file_extension": ".py",
   "mimetype": "text/x-python",
   "name": "python",
   "nbconvert_exporter": "python",
   "pygments_lexer": "ipython3",
   "version": "3.9.7"
  }
 },
 "nbformat": 4,
 "nbformat_minor": 4
}
