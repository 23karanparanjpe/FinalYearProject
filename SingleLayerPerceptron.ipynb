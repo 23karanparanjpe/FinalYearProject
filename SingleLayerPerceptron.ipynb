{
 "cells": [
  {
   "cell_type": "code",
   "execution_count": 1,
   "id": "4217f982-45c3-49c2-854a-43d6ced6fc31",
   "metadata": {},
   "outputs": [
    {
     "name": "stdout",
     "output_type": "stream",
     "text": [
      "WARNING:tensorflow:From C:\\Users\\Admin\\AppData\\Local\\Programs\\Python\\Python39\\lib\\site-packages\\tensorflow\\python\\compat\\v2_compat.py:101: disable_resource_variables (from tensorflow.python.ops.variable_scope) is deprecated and will be removed in a future version.\n",
      "Instructions for updating:\n",
      "non-resource variables are not supported in the long term\n"
     ]
    }
   ],
   "source": [
    "import tensorflow.compat.v1 as tf\n",
    "tf.disable_v2_behavior()\n",
    "import numpy as np\n",
    "import matplotlib.pyplot as plt"
   ]
  },
  {
   "cell_type": "code",
   "execution_count": 2,
   "id": "6cbe3173-7526-42ad-b46b-d2e0dd42041f",
   "metadata": {},
   "outputs": [],
   "source": [
    "learning_rate = 0.0008\n",
    "training_epochs = 1600\n",
    "display_step = 40"
   ]
  },
  {
   "cell_type": "code",
   "execution_count": 3,
   "id": "a5ca996d-b7c5-483f-a2ea-82cb9e929007",
   "metadata": {},
   "outputs": [],
   "source": [
    "inputX = np.array([[  2,   3],\n",
    "                  [  1,   3]])\n",
    "inputY = np.array([[  2,   3],\n",
    "                  [  1,   3]])"
   ]
  },
  {
   "cell_type": "code",
   "execution_count": 4,
   "id": "969e73fd-ea6b-49a0-a441-d46264a539f7",
   "metadata": {},
   "outputs": [],
   "source": [
    "x = tf.placeholder(tf.float32, [None, 2])\n",
    "y_ = tf.placeholder(tf.float32, [None, 2])\n",
    "\n",
    "W = tf.Variable([[0.0,0.0],[0.0,0.0]])\n",
    "b = tf.Variable([0.0,0.0])"
   ]
  },
  {
   "cell_type": "code",
   "execution_count": 5,
   "id": "1779c8a9-9dcb-488f-bc10-71aacbb1571a",
   "metadata": {},
   "outputs": [],
   "source": [
    "layer1 = tf.add(tf.matmul(x, W), b)\n",
    "y = tf.nn.softmax(layer1)"
   ]
  },
  {
   "cell_type": "code",
   "execution_count": 6,
   "id": "fbe49d6d-3ad0-4bb9-a2b2-fd851ddfb8e7",
   "metadata": {},
   "outputs": [],
   "source": [
    "cost = tf.reduce_sum(tf.pow(y_-y,2))\n",
    "\n",
    "optimizer =tf.train.GradientDescentOptimizer(learning_rate=learning_rate).minimize(cost)"
   ]
  },
  {
   "cell_type": "code",
   "execution_count": 7,
   "id": "fff511bc-b16a-44f8-b905-f9aff116a041",
   "metadata": {},
   "outputs": [],
   "source": [
    "init = tf.global_variables_initializer()\n",
    "sess = tf.Session()\n",
    "sess.run(init)"
   ]
  },
  {
   "cell_type": "code",
   "execution_count": 8,
   "id": "e47377ec-4de8-44fc-896f-7924a5fd2ba3",
   "metadata": {},
   "outputs": [
    {
     "name": "stdout",
     "output_type": "stream",
     "text": [
      "[[0.4924006  0.5075994 ]\n",
      " [0.49320042 0.5067996 ]]\n",
      "Training step: 0000 cost= 14.957809448\n",
      "[[0.2738132  0.7261868 ]\n",
      " [0.29421356 0.70578647]]\n",
      "Training step: 0040 cost= 13.911497116\n",
      "[[0.17764217 0.82235783]\n",
      " [0.20141463 0.7985854 ]]\n",
      "Training step: 0080 cost= 13.547078133\n",
      "[[0.12976165 0.87023836]\n",
      " [0.15276803 0.847232  ]]\n",
      "Training step: 0120 cost= 13.385889053\n",
      "[[0.10182292 0.89817715]\n",
      " [0.12327544 0.8767246 ]]\n",
      "Training step: 0160 cost= 13.297677994\n",
      "[[0.08364542 0.9163546 ]\n",
      " [0.10351706 0.89648294]]\n",
      "Training step: 0200 cost= 13.242458344\n",
      "[[0.07090627 0.9290937 ]\n",
      " [0.08934286 0.9106571 ]]\n",
      "Training step: 0240 cost= 13.204705238\n",
      "[[0.06149239 0.9385076 ]\n",
      " [0.07866471 0.92133534]]\n",
      "Training step: 0280 cost= 13.177268982\n",
      "[[0.05425584 0.94574416]\n",
      " [0.07032111 0.9296789 ]]\n",
      "Training step: 0320 cost= 13.156419754\n",
      "[[0.04852123 0.9514788 ]\n",
      " [0.06361516 0.9363848 ]]\n",
      "Training step: 0360 cost= 13.140033722\n",
      "[[0.04386587 0.9561341 ]\n",
      " [0.05810328 0.9418968 ]]\n",
      "Training step: 0400 cost= 13.126806259\n",
      "[[0.04001195 0.95998806]\n",
      " [0.05348948 0.94651043]]\n",
      "Training step: 0440 cost= 13.115902901\n",
      "[[0.03676932 0.9632306 ]\n",
      " [0.04956866 0.95043135]]\n",
      "Training step: 0480 cost= 13.106756210\n",
      "[[0.03400359 0.9659963 ]\n",
      " [0.04619407 0.953806  ]]\n",
      "Training step: 0520 cost= 13.098968506\n",
      "[[0.03161705 0.968383  ]\n",
      " [0.0432579  0.95674217]]\n",
      "Training step: 0560 cost= 13.092256546\n",
      "[[0.0295369  0.97046304]\n",
      " [0.04067905 0.9593209 ]]\n",
      "Training step: 0600 cost= 13.086412430\n",
      "[[0.02770791 0.972292  ]\n",
      " [0.03839547 0.96160454]]\n",
      "Training step: 0640 cost= 13.081274986\n",
      "[[0.02608734 0.9739127 ]\n",
      " [0.03635869 0.9636413 ]]\n",
      "Training step: 0680 cost= 13.076723099\n",
      "[[0.02464163 0.9753584 ]\n",
      " [0.03453044 0.9654696 ]]\n",
      "Training step: 0720 cost= 13.072659492\n",
      "[[0.02334404 0.9766559 ]\n",
      " [0.03287995 0.96712005]]\n",
      "Training step: 0760 cost= 13.069011688\n",
      "[[0.02217303 0.9778269 ]\n",
      " [0.03138229 0.9686177 ]]\n",
      "Training step: 0800 cost= 13.065717697\n",
      "[[0.02111101 0.978889  ]\n",
      " [0.03001697 0.969983  ]]\n",
      "Training step: 0840 cost= 13.062726974\n",
      "[[0.0201435  0.9798565 ]\n",
      " [0.02876706 0.97123295]]\n",
      "Training step: 0880 cost= 13.060001373\n",
      "[[0.01925853 0.98074144]\n",
      " [0.02761842 0.97238165]]\n",
      "Training step: 0920 cost= 13.057504654\n",
      "[[0.018446   0.98155403]\n",
      " [0.0265591  0.9734408 ]]\n",
      "Training step: 0960 cost= 13.055210114\n",
      "[[0.01769741 0.9823026 ]\n",
      " [0.02557901 0.97442096]]\n",
      "Training step: 1000 cost= 13.053092003\n",
      "[[0.01700556 0.98299444]\n",
      " [0.0246695  0.97533053]]\n",
      "Training step: 1040 cost= 13.051133156\n",
      "[[0.01636427 0.9836357 ]\n",
      " [0.02382318 0.97617686]]\n",
      "Training step: 1080 cost= 13.049318314\n",
      "[[0.01576823 0.9842317 ]\n",
      " [0.02303362 0.97696644]]\n",
      "Training step: 1120 cost= 13.047626495\n",
      "[[0.01521284 0.98478717]\n",
      " [0.02229527 0.97770476]]\n",
      "Training step: 1160 cost= 13.046047211\n",
      "[[0.01469411 0.9853059 ]\n",
      " [0.02160327 0.9783967 ]]\n",
      "Training step: 1200 cost= 13.044572830\n",
      "[[0.01420855 0.98579144]\n",
      " [0.02095335 0.9790467 ]]\n",
      "Training step: 1240 cost= 13.043188095\n",
      "[[0.01375312 0.98624694]\n",
      " [0.02034178 0.97965825]]\n",
      "Training step: 1280 cost= 13.041889191\n",
      "[[0.01332509 0.98667496]\n",
      " [0.01976521 0.98023474]]\n",
      "Training step: 1320 cost= 13.040666580\n",
      "[[0.01292209 0.98707795]\n",
      " [0.01922074 0.9807793 ]]\n",
      "Training step: 1360 cost= 13.039514542\n",
      "[[0.012542   0.98745805]\n",
      " [0.01870572 0.9812943 ]]\n",
      "Training step: 1400 cost= 13.038426399\n",
      "[[0.01218295 0.9878171 ]\n",
      " [0.01821781 0.9817822 ]]\n",
      "Training step: 1440 cost= 13.037396431\n",
      "[[0.01184329 0.98815674]\n",
      " [0.01775499 0.98224497]]\n",
      "Training step: 1480 cost= 13.036420822\n",
      "[[0.01152141 0.9884786 ]\n",
      " [0.01731524 0.9826848 ]]\n",
      "Training step: 1520 cost= 13.035493851\n",
      "[[0.01121602 0.98878396]\n",
      " [0.01689692 0.98310304]]\n",
      "Training step: 1560 cost= 13.034616470\n",
      "Optimization Finished!\n"
     ]
    }
   ],
   "source": [
    "avg_set = []\n",
    "epoch_set = []\n",
    "\n",
    "for i in range(training_epochs):\n",
    "   sess.run(optimizer, feed_dict = {x: inputX, y_:inputY})\n",
    "\n",
    "   if i % display_step == 0:\n",
    "       cc = sess.run(cost, feed_dict = {x: inputX, y_:inputY})\n",
    "       print(sess.run(y, feed_dict = {x:inputX}))\n",
    "\n",
    "\n",
    "       print(\"Training step:\", '%04d' % (i), \"cost=\", \"{:.9f}\".format(cc))\n",
    "       avg_set.append(cc)\n",
    "       epoch_set.append(i + 1)\n"
   ]
  },
  {
   "cell_type": "code",
   "execution_count": 9,
   "id": "7c33d4e0-1584-49cf-98a5-189dfdaab5de",
   "metadata": {},
   "outputs": [
    {
     "name": "stdout",
     "output_type": "stream",
     "text": [
      "Training cost =  13.033801 \n",
      "W= [[-0.20886447  0.2088646 ]\n",
      " [-0.5504283   0.5504282 ]] \n",
      "b= [-0.18347593  0.18347599]\n"
     ]
    }
   ],
   "source": [
    "training_cost = sess.run(cost, feed_dict = {x: inputX, y_: inputY})\n",
    "print(\"Training cost = \", training_cost, \"\\nW=\", sess.run(W),\n",
    "      \"\\nb=\", sess.run(b))"
   ]
  },
  {
   "cell_type": "code",
   "execution_count": 12,
   "id": "398c3c46-5c51-4c66-96d0-d51245cd6c2f",
   "metadata": {},
   "outputs": [
    {
     "data": {
      "image/png": "[encoded data removed]",
      "text/plain": [
       "<Figure size 432x288 with 1 Axes>"
      ]
     },
     "metadata": {
      "needs_background": "light"
     },
     "output_type": "display_data"
    }
   ],
   "source": [
    "plt.plot(epoch_set,avg_set,'o',label = 'SLP')\n",
    "plt.ylabel('cost')\n",
    "plt.xlabel('epochs')\n",
    "plt.legend()\n",
    "plt.show()"
   ]
  },
  {
   "cell_type": "code",
   "execution_count": null,
   "id": "a0f1c87d-c0b0-4940-a4f8-60b9108676ab",
   "metadata": {},
   "outputs": [],
   "source": []
  }
 ],
 "metadata": {
  "kernelspec": {
   "display_name": "Python 3 (ipykernel)",
   "language": "python",
   "name": "python3"
  },
  "language_info": {
   "codemirror_mode": {
    "name": "ipython",
    "version": 3
   },
   "file_extension": ".py",
   "mimetype": "text/x-python",
   "name": "python",
   "nbconvert_exporter": "python",
   "pygments_lexer": "ipython3",
   "version": "3.9.7"
  }
 },
 "nbformat": 4,
 "nbformat_minor": 5
}
